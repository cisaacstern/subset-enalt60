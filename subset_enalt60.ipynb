{
 "cells": [
  {
   "cell_type": "code",
   "execution_count": null,
   "id": "157e7e86",
   "metadata": {},
   "outputs": [],
   "source": [
    "!pip install \"gcsfs>=2021.7.0\" git+https://github.com/rabernat/pangeo-forge.git@subset_chunks"
   ]
  },
  {
   "cell_type": "code",
   "execution_count": null,
   "id": "dc5de341",
   "metadata": {},
   "outputs": [],
   "source": [
    "from enatl60_recipe import recipes\n",
    "from recipe_helpers import setup_logging, setup_targets\n",
    "\n",
    "setup_logging()\n",
    "rec = setup_targets(recipe_dict, key=\"eNATL60/Region02/interior_daily/fma\")"
   ]
  },
  {
   "cell_type": "code",
   "execution_count": null,
   "id": "73ade827",
   "metadata": {},
   "outputs": [],
   "source": [
    "rec.target_chunks, rec.subset_inputs"
   ]
  },
  {
   "cell_type": "code",
   "execution_count": null,
   "id": "486e20b8",
   "metadata": {},
   "outputs": [],
   "source": [
    "from pangeo_forge_recipes.recipes.xarray_zarr import cache_input_metadata\n",
    "\n",
    "for input_name in rec.iter_inputs():\n",
    "    cache_input_metadata(\n",
    "        input_name,\n",
    "        file_pattern=rec.file_pattern,\n",
    "        input_cache=rec.input_cache,\n",
    "        cache_inputs=rec.cache_inputs,\n",
    "        copy_input_to_local_file=rec.copy_input_to_local_file,\n",
    "        xarray_open_kwargs=rec.xarray_open_kwargs,\n",
    "        delete_input_encoding=rec.delete_input_encoding,\n",
    "        process_input=rec.process_input,\n",
    "        metadata_cache=rec.metadata_cache,\n",
    "    )"
   ]
  },
  {
   "cell_type": "code",
   "execution_count": null,
   "id": "1677bc88",
   "metadata": {},
   "outputs": [],
   "source": [
    "rec.prepare_target()"
   ]
  },
  {
   "cell_type": "code",
   "execution_count": null,
   "id": "5f5ed2ee",
   "metadata": {},
   "outputs": [],
   "source": [
    "for chunk in rec.iter_chunks():\n",
    "    rec.store_chunk(chunk)"
   ]
  }
 ],
 "metadata": {
  "kernelspec": {
   "display_name": "pangeo-forge3.8",
   "language": "python",
   "name": "pangeo-forge3.8"
  },
  "language_info": {
   "codemirror_mode": {
    "name": "ipython",
    "version": 3
   },
   "file_extension": ".py",
   "mimetype": "text/x-python",
   "name": "python",
   "nbconvert_exporter": "python",
   "pygments_lexer": "ipython3",
   "version": "3.8.8"
  }
 },
 "nbformat": 4,
 "nbformat_minor": 5
}
